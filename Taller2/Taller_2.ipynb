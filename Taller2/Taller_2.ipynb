{
 "cells": [
  {
   "cell_type": "markdown",
   "id": "86e5072d-536f-4776-bc66-33b680dc6073",
   "metadata": {},
   "source": [
    "Feast - Feature Store\n",
    "Deimer De Jesús Ballesteros\n",
    "Simón Dávila"
   ]
  },
  {
   "cell_type": "code",
   "execution_count": 2,
   "id": "04b09c1a-38ac-47fc-ac1f-a77524ba63bf",
   "metadata": {
    "tags": []
   },
   "outputs": [],
   "source": [
    "%rm -r taller_2"
   ]
  },
  {
   "cell_type": "code",
   "execution_count": 3,
   "id": "924b99e4-3b19-4378-b4fa-29960efe2db0",
   "metadata": {
    "tags": []
   },
   "outputs": [
    {
     "name": "stdout",
     "output_type": "stream",
     "text": [
      "\n",
      "Creating a new Feast repository in \u001b[1m\u001b[32m/work/taller_2\u001b[0m.\n",
      "\n"
     ]
    }
   ],
   "source": [
    "! feast init taller_2"
   ]
  },
  {
   "cell_type": "code",
   "execution_count": 4,
   "id": "aae6d2c7-dd17-497d-9377-0ab60b84444a",
   "metadata": {
    "tags": []
   },
   "outputs": [
    {
     "name": "stdout",
     "output_type": "stream",
     "text": [
      "/work/taller_2/feature_repo\n"
     ]
    }
   ],
   "source": [
    "%cd taller_2/feature_repo"
   ]
  },
  {
   "cell_type": "code",
   "execution_count": 5,
   "id": "e63bc729-5370-4f30-8f0a-974a9ee81e38",
   "metadata": {
    "tags": []
   },
   "outputs": [
    {
     "data": {
      "text/html": [
       "<div>\n",
       "<style scoped>\n",
       "    .dataframe tbody tr th:only-of-type {\n",
       "        vertical-align: middle;\n",
       "    }\n",
       "\n",
       "    .dataframe tbody tr th {\n",
       "        vertical-align: top;\n",
       "    }\n",
       "\n",
       "    .dataframe thead th {\n",
       "        text-align: right;\n",
       "    }\n",
       "</style>\n",
       "<table border=\"1\" class=\"dataframe\">\n",
       "  <thead>\n",
       "    <tr style=\"text-align: right;\">\n",
       "      <th></th>\n",
       "      <th>event_timestamp</th>\n",
       "      <th>driver_id</th>\n",
       "      <th>conv_rate</th>\n",
       "      <th>acc_rate</th>\n",
       "      <th>avg_daily_trips</th>\n",
       "      <th>created</th>\n",
       "    </tr>\n",
       "  </thead>\n",
       "  <tbody>\n",
       "    <tr>\n",
       "      <th>0</th>\n",
       "      <td>2023-05-07 23:00:00+00:00</td>\n",
       "      <td>1005</td>\n",
       "      <td>0.705529</td>\n",
       "      <td>0.756371</td>\n",
       "      <td>110</td>\n",
       "      <td>2023-05-22 23:31:07.626</td>\n",
       "    </tr>\n",
       "    <tr>\n",
       "      <th>1</th>\n",
       "      <td>2023-05-08 00:00:00+00:00</td>\n",
       "      <td>1005</td>\n",
       "      <td>0.012319</td>\n",
       "      <td>0.648218</td>\n",
       "      <td>144</td>\n",
       "      <td>2023-05-22 23:31:07.626</td>\n",
       "    </tr>\n",
       "    <tr>\n",
       "      <th>2</th>\n",
       "      <td>2023-05-08 01:00:00+00:00</td>\n",
       "      <td>1005</td>\n",
       "      <td>0.445981</td>\n",
       "      <td>0.410704</td>\n",
       "      <td>381</td>\n",
       "      <td>2023-05-22 23:31:07.626</td>\n",
       "    </tr>\n",
       "    <tr>\n",
       "      <th>3</th>\n",
       "      <td>2023-05-08 02:00:00+00:00</td>\n",
       "      <td>1005</td>\n",
       "      <td>0.796583</td>\n",
       "      <td>0.460959</td>\n",
       "      <td>875</td>\n",
       "      <td>2023-05-22 23:31:07.626</td>\n",
       "    </tr>\n",
       "    <tr>\n",
       "      <th>4</th>\n",
       "      <td>2023-05-08 03:00:00+00:00</td>\n",
       "      <td>1005</td>\n",
       "      <td>0.555176</td>\n",
       "      <td>0.595937</td>\n",
       "      <td>166</td>\n",
       "      <td>2023-05-22 23:31:07.626</td>\n",
       "    </tr>\n",
       "  </tbody>\n",
       "</table>\n",
       "</div>"
      ],
      "text/plain": [
       "            event_timestamp  driver_id  conv_rate  acc_rate  avg_daily_trips  \\\n",
       "0 2023-05-07 23:00:00+00:00       1005   0.705529  0.756371              110   \n",
       "1 2023-05-08 00:00:00+00:00       1005   0.012319  0.648218              144   \n",
       "2 2023-05-08 01:00:00+00:00       1005   0.445981  0.410704              381   \n",
       "3 2023-05-08 02:00:00+00:00       1005   0.796583  0.460959              875   \n",
       "4 2023-05-08 03:00:00+00:00       1005   0.555176  0.595937              166   \n",
       "\n",
       "                  created  \n",
       "0 2023-05-22 23:31:07.626  \n",
       "1 2023-05-22 23:31:07.626  \n",
       "2 2023-05-22 23:31:07.626  \n",
       "3 2023-05-22 23:31:07.626  \n",
       "4 2023-05-22 23:31:07.626  "
      ]
     },
     "execution_count": 5,
     "metadata": {},
     "output_type": "execute_result"
    }
   ],
   "source": [
    "import pandas as pd\n",
    "from datetime import datetime, timedelta\n",
    "import sqlite3\n",
    " \n",
    "from feast import FeatureStore\n",
    "\n",
    "raw_df=pd.read_parquet(\"data/driver_stats.parquet\")\n",
    "raw_df.head()"
   ]
  },
  {
   "cell_type": "code",
   "execution_count": 6,
   "id": "4ead5708-74d3-4937-9edc-0a7e5c18789c",
   "metadata": {
    "tags": []
   },
   "outputs": [
    {
     "name": "stdout",
     "output_type": "stream",
     "text": [
      "/usr/local/lib/python3.10/site-packages/feast/feature_store.py:561: RuntimeWarning: On demand feature view is an experimental feature. This API is stable, but the functionality does not scale well for offline retrieval\n",
      "  warnings.warn(\n",
      "/usr/local/lib/python3.10/site-packages/feast/infra/offline_stores/file_source.py:161: FutureWarning: 'ParquetDataset.schema' attribute is deprecated as of pyarrow 5.0.0 and will be removed in a future version. Specify 'use_legacy_dataset=False' while constructing the ParquetDataset, and then use the '.schema' attribute instead (which will return an Arrow schema instead of a Parquet schema).\n",
      "  schema = ParquetDataset(path).schema\n",
      "Created entity \u001b[1m\u001b[32mdriver\u001b[0m\n",
      "Created feature view \u001b[1m\u001b[32mdriver_hourly_stats\u001b[0m\n",
      "Created feature view \u001b[1m\u001b[32mdriver_hourly_stats_fresh\u001b[0m\n",
      "Created on demand feature view \u001b[1m\u001b[32mtransformed_conv_rate\u001b[0m\n",
      "Created on demand feature view \u001b[1m\u001b[32mtransformed_conv_rate_fresh\u001b[0m\n",
      "Created feature service \u001b[1m\u001b[32mdriver_activity_v2\u001b[0m\n",
      "Created feature service \u001b[1m\u001b[32mdriver_activity_v3\u001b[0m\n",
      "Created feature service \u001b[1m\u001b[32mdriver_activity_v1\u001b[0m\n",
      "\n",
      "Created sqlite table \u001b[1m\u001b[32mtaller_2_driver_hourly_stats_fresh\u001b[0m\n",
      "Created sqlite table \u001b[1m\u001b[32mtaller_2_driver_hourly_stats\u001b[0m\n",
      "\n"
     ]
    }
   ],
   "source": [
    "! feast apply"
   ]
  },
  {
   "cell_type": "code",
   "execution_count": 7,
   "id": "c37967c4-aad8-4100-b2ac-8d1c540330d6",
   "metadata": {
    "tags": []
   },
   "outputs": [],
   "source": [
    "dict_df = pd.DataFrame.from_dict(\n",
    "    {\n",
    "        \"driver_id\": [1001, 1002, 1003],\n",
    "        \"label_driver_reported_satisfaction\": [1, 5, 3], \n",
    "        \"event_timestamp\": [\n",
    "            datetime.now() - timedelta(minutes=11),\n",
    "            datetime.now() - timedelta(minutes=36),\n",
    "            datetime.now() - timedelta(minutes=73),\n",
    "        ],\n",
    "    }\n",
    ")\n",
    " \n",
    "store = FeatureStore(repo_path=\".\")\n",
    " \n",
    "training_data = store.get_historical_features(\n",
    "    entity_df=dict_df,\n",
    "    features=[\n",
    "        \"driver_hourly_stats:conv_rate\",\n",
    "        \"driver_hourly_stats:acc_rate\",\n",
    "        \"driver_hourly_stats:avg_daily_trips\",\n",
    "    ],\n",
    ").to_df()"
   ]
  },
  {
   "cell_type": "code",
   "execution_count": 8,
   "id": "a61bcb69-048d-4a38-bb35-06ec80f30843",
   "metadata": {
    "tags": []
   },
   "outputs": [
    {
     "name": "stdout",
     "output_type": "stream",
     "text": [
      "Materializing \u001b[1m\u001b[32m2\u001b[0m feature views to \u001b[1m\u001b[32m2023-05-22 18:37:18-05:00\u001b[0m into the \u001b[1m\u001b[32msqlite\u001b[0m online store.\n",
      "\n",
      "\u001b[1m\u001b[32mdriver_hourly_stats\u001b[0m from \u001b[1m\u001b[32m2023-05-22 04:37:44-05:00\u001b[0m to \u001b[1m\u001b[32m2023-05-22 18:37:18-05:00\u001b[0m:\n",
      "100%|█████████████████████████████████████████████████████████████████| 5/5 [00:00<00:00, 99.54it/s]\n",
      "\u001b[1m\u001b[32mdriver_hourly_stats_fresh\u001b[0m from \u001b[1m\u001b[32m2023-05-22 04:37:45-05:00\u001b[0m to \u001b[1m\u001b[32m2023-05-22 18:37:18-05:00\u001b[0m:\n",
      "100%|████████████████████████████████████████████████████████████████| 5/5 [00:00<00:00, 201.11it/s]\n"
     ]
    }
   ],
   "source": [
    "! feast materialize-incremental {datetime.now().isoformat()}"
   ]
  },
  {
   "cell_type": "code",
   "execution_count": 10,
   "id": "f64a8ab5-c99d-4de0-81c3-4d951fe60efe",
   "metadata": {
    "tags": []
   },
   "outputs": [
    {
     "name": "stdout",
     "output_type": "stream",
     "text": [
      "                                           entity_key     feature_name  \\\n",
      "0   b'\\x02\\x00\\x00\\x00driver_id\\x04\\x00\\x00\\x00\\x0...        conv_rate   \n",
      "1   b'\\x02\\x00\\x00\\x00driver_id\\x04\\x00\\x00\\x00\\x0...         acc_rate   \n",
      "2   b'\\x02\\x00\\x00\\x00driver_id\\x04\\x00\\x00\\x00\\x0...  avg_daily_trips   \n",
      "3   b'\\x02\\x00\\x00\\x00driver_id\\x04\\x00\\x00\\x00\\x0...        conv_rate   \n",
      "4   b'\\x02\\x00\\x00\\x00driver_id\\x04\\x00\\x00\\x00\\x0...         acc_rate   \n",
      "5   b'\\x02\\x00\\x00\\x00driver_id\\x04\\x00\\x00\\x00\\x0...  avg_daily_trips   \n",
      "6   b'\\x02\\x00\\x00\\x00driver_id\\x04\\x00\\x00\\x00\\x0...        conv_rate   \n",
      "7   b'\\x02\\x00\\x00\\x00driver_id\\x04\\x00\\x00\\x00\\x0...         acc_rate   \n",
      "8   b'\\x02\\x00\\x00\\x00driver_id\\x04\\x00\\x00\\x00\\x0...  avg_daily_trips   \n",
      "9   b'\\x02\\x00\\x00\\x00driver_id\\x04\\x00\\x00\\x00\\x0...        conv_rate   \n",
      "10  b'\\x02\\x00\\x00\\x00driver_id\\x04\\x00\\x00\\x00\\x0...         acc_rate   \n",
      "11  b'\\x02\\x00\\x00\\x00driver_id\\x04\\x00\\x00\\x00\\x0...  avg_daily_trips   \n",
      "12  b'\\x02\\x00\\x00\\x00driver_id\\x04\\x00\\x00\\x00\\x0...        conv_rate   \n",
      "13  b'\\x02\\x00\\x00\\x00driver_id\\x04\\x00\\x00\\x00\\x0...         acc_rate   \n",
      "14  b'\\x02\\x00\\x00\\x00driver_id\\x04\\x00\\x00\\x00\\x0...  avg_daily_trips   \n",
      "\n",
      "                value             event_ts                  created_ts  \n",
      "0      b'5\\x07\\x0bv>'  2023-05-22 22:00:00  2023-05-22 23:31:07.626000  \n",
      "1      b'5\\xb6\\xe2{?'  2023-05-22 22:00:00  2023-05-22 23:31:07.626000  \n",
      "2        b' \\xe5\\x07'  2023-05-22 22:00:00  2023-05-22 23:31:07.626000  \n",
      "3   b'5\\x19\\x95\\xce>'  2023-05-22 22:00:00  2023-05-22 23:31:07.626000  \n",
      "4         b'5C#\\xca<'  2023-05-22 22:00:00  2023-05-22 23:31:07.626000  \n",
      "5        b' \\x80\\x01'  2023-05-22 22:00:00  2023-05-22 23:31:07.626000  \n",
      "6      b'5\\xe9\\xff*>'  2023-05-22 22:00:00  2023-05-22 23:31:07.626000  \n",
      "7   b'5\\x16\\x1c\\xfc>'  2023-05-22 22:00:00  2023-05-22 23:31:07.626000  \n",
      "8        b' \\xd9\\x03'  2023-05-22 22:00:00  2023-05-22 23:31:07.626000  \n",
      "9   b'5\\xe7\\xaf\\xb3>'  2023-05-22 22:00:00  2023-05-22 23:31:07.626000  \n",
      "10     b'5\\xa6p\\x13?'  2023-05-22 22:00:00  2023-05-22 23:31:07.626000  \n",
      "11       b' \\xed\\x04'  2023-05-22 22:00:00  2023-05-22 23:31:07.626000  \n",
      "12  b'5\\xc0\\x8a\\x16?'  2023-05-22 22:00:00  2023-05-22 23:31:07.626000  \n",
      "13        b'5\\x85G*>'  2023-05-22 22:00:00  2023-05-22 23:31:07.626000  \n",
      "14       b' \\x9f\\x03'  2023-05-22 22:00:00  2023-05-22 23:31:07.626000  \n"
     ]
    }
   ],
   "source": [
    "con_online = sqlite3.connect(\"data/online_store.db\")\n",
    "print(\n",
    "    pd.read_sql_query(\n",
    "        \"SELECT * FROM taller_2_driver_hourly_stats\", con_online))\n",
    "con_online.close()"
   ]
  }
 ],
 "metadata": {
  "kernelspec": {
   "display_name": "Python 3 (ipykernel)",
   "language": "python",
   "name": "python3"
  },
  "language_info": {
   "codemirror_mode": {
    "name": "ipython",
    "version": 3
   },
   "file_extension": ".py",
   "mimetype": "text/x-python",
   "name": "python",
   "nbconvert_exporter": "python",
   "pygments_lexer": "ipython3",
   "version": "3.10.11"
  }
 },
 "nbformat": 4,
 "nbformat_minor": 5
}
